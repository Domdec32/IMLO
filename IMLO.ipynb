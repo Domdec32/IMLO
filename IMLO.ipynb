{
  "nbformat": 4,
  "nbformat_minor": 0,
  "metadata": {
    "colab": {
      "provenance": [],
      "gpuType": "T4",
      "authorship_tag": "ABX9TyOR5Fo1EykdHkaWYIzpPAr/",
      "include_colab_link": true
    },
    "kernelspec": {
      "name": "python3",
      "display_name": "Python 3"
    },
    "language_info": {
      "name": "python"
    },
    "accelerator": "GPU"
  },
  "cells": [
    {
      "cell_type": "markdown",
      "metadata": {
        "id": "view-in-github",
        "colab_type": "text"
      },
      "source": [
        "<a href=\"https://colab.research.google.com/github/Domdec32/IMLO/blob/main/IMLO.ipynb\" target=\"_parent\"><img src=\"https://colab.research.google.com/assets/colab-badge.svg\" alt=\"Open In Colab\"/></a>"
      ]
    },
    {
      "cell_type": "code",
      "execution_count": 13,
      "metadata": {
        "id": "LFeJuU2NaouY"
      },
      "outputs": [],
      "source": [
        "import torch\n",
        "import torch.optim as optim\n",
        "from torch import nn\n",
        "from torch.utils.data import DataLoader\n",
        "from torchvision import datasets, transforms\n",
        "from torchvision.transforms import ToTensor\n",
        "import torch.nn.functional as F\n",
        "from torch.utils.data import ConcatDataset\n",
        "from torch.utils.data import TensorDataset"
      ]
    },
    {
      "cell_type": "code",
      "source": [
        "ImageWidth = 200\n",
        "ImageHeight = 200\n",
        "batch_size = 64\n",
        "LearningRate = 0.001\n",
        "NumberofEpochs = 30"
      ],
      "metadata": {
        "id": "imGBd49Vgt_U"
      },
      "execution_count": 14,
      "outputs": []
    },
    {
      "cell_type": "code",
      "source": [
        "transform = transforms.Compose([\n",
        "    transforms.Resize((ImageHeight, ImageWidth)),\n",
        "    transforms.ToTensor()\n",
        "])\n",
        "\n",
        "augment_transform = transforms.Compose([\n",
        "    transforms.Resize((ImageHeight, ImageWidth)),\n",
        "    transforms.RandomRotation(degrees=20),\n",
        "    transforms.RandomHorizontalFlip(),\n",
        "    transforms.RandomResizedCrop((ImageHeight, ImageWidth), scale=(0.8, 1.0)),\n",
        "    transforms.ToTensor()\n",
        "])"
      ],
      "metadata": {
        "id": "NFyIYbEQk3nz"
      },
      "execution_count": 15,
      "outputs": []
    },
    {
      "cell_type": "code",
      "source": [
        "\n",
        "training_data = datasets.Flowers102(\n",
        "    root=\"data\",\n",
        "    split=\"train\",\n",
        "    download=True,\n",
        "    transform=transform,\n",
        ")\n",
        "\n",
        "augmented_training_data1 = datasets.Flowers102(\n",
        "    root=\"data\",\n",
        "    split=\"train\",\n",
        "    download=True,\n",
        "    transform=augment_transform,\n",
        ")\n",
        "\n",
        "augmented_training_data2 = datasets.Flowers102(\n",
        "    root=\"data\",\n",
        "    split=\"train\",\n",
        "    download=True,\n",
        "    transform=augment_transform,\n",
        ")\n",
        "\n",
        "test_data = datasets.Flowers102(\n",
        "    root=\"data\",\n",
        "    split=\"test\",\n",
        "    download=True,\n",
        "    transform=transform,\n",
        ")\n",
        "\n",
        "evaluation_data = datasets.Flowers102(\n",
        "    root=\"data\",\n",
        "    split=\"val\",\n",
        "    download=True,\n",
        "    transform=transform,\n",
        ")"
      ],
      "metadata": {
        "id": "6fJ8bVzYcAbN"
      },
      "execution_count": 16,
      "outputs": []
    },
    {
      "cell_type": "code",
      "source": [
        "combined_dataset1 = ConcatDataset([training_data, augmented_training_data1])\n",
        "combined_dataset2 = ConcatDataset([combined_dataset1, augmented_training_data2])\n",
        "train_dataloader = DataLoader(combined_dataset2, batch_size=batch_size, shuffle=True)\n",
        "\n",
        "test_dataloader = DataLoader(test_data, batch_size=batch_size, shuffle=False)\n",
        "evaluation_dataloader = DataLoader(evaluation_data, batch_size=batch_size, shuffle=False)"
      ],
      "metadata": {
        "id": "x60GDaM1dFkA"
      },
      "execution_count": 17,
      "outputs": []
    },
    {
      "cell_type": "code",
      "source": [
        "for X, y in test_dataloader:\n",
        "    print(f\"Shape of X: {X.shape}\")\n",
        "    print(f\"Shape of y: {y.shape} {y.dtype}\")\n",
        "    break"
      ],
      "metadata": {
        "colab": {
          "base_uri": "https://localhost:8080/"
        },
        "id": "UILdZQF7eQzg",
        "outputId": "71b956ee-46eb-412c-cb18-43ecf83aae56"
      },
      "execution_count": 18,
      "outputs": [
        {
          "output_type": "stream",
          "name": "stdout",
          "text": [
            "Shape of X: torch.Size([64, 3, 200, 200])\n",
            "Shape of y: torch.Size([64]) torch.int64\n"
          ]
        }
      ]
    },
    {
      "cell_type": "code",
      "source": [
        "class CNN(nn.Module):\n",
        "    def __init__(self, ImageWidth, ImageHeight, num_classes=102):\n",
        "        super(CNN, self).__init__()\n",
        "\n",
        "        self.conv1 = nn.Conv2d(in_channels=3, out_channels=8, kernel_size=3, stride=1, padding=1)\n",
        "        self.conv2 = nn.Conv2d(in_channels=8, out_channels=16, kernel_size=3, stride=1, padding=1)\n",
        "        self.pool = nn.MaxPool2d(kernel_size=2, stride=2)\n",
        "        self.fc = nn.Linear(in_features = int(ImageWidth/4)*int(ImageHeight/4)*16, out_features=num_classes)\n",
        "\n",
        "    def forward(self, x):\n",
        "          x = self.pool(F.relu(self.conv1(x)))\n",
        "          x = self.pool(F.relu(self.conv2(x)))\n",
        "          x = self.fc(x.reshape(x.shape[0], -1))\n",
        "\n",
        "          return x\n",
        "\n",
        "model = CNN(ImageWidth, ImageHeight, num_classes=102)"
      ],
      "metadata": {
        "id": "INLtjtrfLAzi"
      },
      "execution_count": 19,
      "outputs": []
    },
    {
      "cell_type": "code",
      "source": [
        "x = torch.randn(32, 3, 200, 200)\n",
        "y = model(x)\n",
        "print(y.shape)"
      ],
      "metadata": {
        "colab": {
          "base_uri": "https://localhost:8080/"
        },
        "id": "RbWi13adUr8u",
        "outputId": "58382e22-8806-4e85-e3ed-b31018149f79"
      },
      "execution_count": 20,
      "outputs": [
        {
          "output_type": "stream",
          "name": "stdout",
          "text": [
            "torch.Size([32, 102])\n"
          ]
        }
      ]
    },
    {
      "cell_type": "code",
      "source": [
        "device = \"cuda\" if torch.cuda.is_available() else \"cpu\"\n",
        "print(device)\n",
        "\n",
        "model = CNN(ImageWidth=ImageWidth, ImageHeight=ImageHeight, num_classes=102)\n",
        "model = model.to(device)\n",
        "\n",
        "criterion = nn.CrossEntropyLoss()\n",
        "\n",
        "optimizer = optim.Adam(model.parameters(), lr = LearningRate)"
      ],
      "metadata": {
        "id": "vWa2uveeXRsY",
        "colab": {
          "base_uri": "https://localhost:8080/"
        },
        "outputId": "aa30eb5a-219e-45df-cff1-3055549243bf"
      },
      "execution_count": 21,
      "outputs": [
        {
          "output_type": "stream",
          "name": "stdout",
          "text": [
            "cuda\n"
          ]
        }
      ]
    },
    {
      "cell_type": "code",
      "source": [
        "def check_accuracy(loader, model, device):\n",
        "    num_correct = 0\n",
        "    num_samples = 0\n",
        "    model.eval()\n",
        "\n",
        "    with torch.no_grad():\n",
        "        for x, y in loader:\n",
        "            x = x.to(device)\n",
        "            y = y.to(device)\n",
        "\n",
        "            scores = model(x)\n",
        "            _, predictions = scores.max(1)\n",
        "\n",
        "            num_correct += (predictions == y).sum()\n",
        "            num_samples += predictions.size(0)\n",
        "\n",
        "    model.train()\n",
        "    accuracy = float(num_correct) / num_samples\n",
        "    return accuracy"
      ],
      "metadata": {
        "id": "EV5aa8BSDPnn"
      },
      "execution_count": 22,
      "outputs": []
    },
    {
      "cell_type": "code",
      "source": [
        "for epoch in range(NumberofEpochs):\n",
        "  running_loss = 0\n",
        "  for index, (x,y) in enumerate(train_dataloader):\n",
        "    x = x.to(device)\n",
        "    y = y.to(device)\n",
        "\n",
        "    y_hat = model(x)\n",
        "    loss = criterion(y_hat, y)\n",
        "    running_loss += loss\n",
        "\n",
        "    optimizer.zero_grad()\n",
        "    loss.backward()\n",
        "    optimizer.step()\n",
        "\n",
        "  print(f\"Epoch {epoch}: loss: {running_loss}\")\n",
        "  eval_accuracy = check_accuracy(evaluation_dataloader, model, device)\n",
        "  print(f'Evaluation Accuracy: {eval_accuracy * 100:.2f}%')"
      ],
      "metadata": {
        "colab": {
          "base_uri": "https://localhost:8080/"
        },
        "id": "9Z6RiYHdDQdp",
        "outputId": "841cb926-8f85-4b88-8447-6dd7bdee0b4a"
      },
      "execution_count": 23,
      "outputs": [
        {
          "output_type": "stream",
          "name": "stdout",
          "text": [
            "Epoch 0: loss: 208.7442626953125\n",
            "Evaluation Accuracy: 9.51%\n",
            "Epoch 1: loss: 150.8865509033203\n",
            "Evaluation Accuracy: 18.82%\n",
            "Epoch 2: loss: 96.31697082519531\n",
            "Evaluation Accuracy: 25.49%\n",
            "Epoch 3: loss: 64.93558502197266\n",
            "Evaluation Accuracy: 26.18%\n",
            "Epoch 4: loss: 48.76742172241211\n",
            "Evaluation Accuracy: 28.92%\n",
            "Epoch 5: loss: 38.26835250854492\n",
            "Evaluation Accuracy: 28.53%\n",
            "Epoch 6: loss: 35.39411926269531\n",
            "Evaluation Accuracy: 29.02%\n",
            "Epoch 7: loss: 28.15653419494629\n",
            "Evaluation Accuracy: 32.65%\n",
            "Epoch 8: loss: 24.235698699951172\n",
            "Evaluation Accuracy: 31.27%\n",
            "Epoch 9: loss: 22.753402709960938\n",
            "Evaluation Accuracy: 32.06%\n",
            "Epoch 10: loss: 20.664409637451172\n",
            "Evaluation Accuracy: 31.37%\n",
            "Epoch 11: loss: 18.753219604492188\n",
            "Evaluation Accuracy: 32.75%\n",
            "Epoch 12: loss: 17.291717529296875\n",
            "Evaluation Accuracy: 31.86%\n",
            "Epoch 13: loss: 17.636247634887695\n",
            "Evaluation Accuracy: 30.69%\n",
            "Epoch 14: loss: 14.211971282958984\n",
            "Evaluation Accuracy: 31.86%\n",
            "Epoch 15: loss: 12.939933776855469\n",
            "Evaluation Accuracy: 33.04%\n",
            "Epoch 16: loss: 14.096755027770996\n",
            "Evaluation Accuracy: 33.14%\n",
            "Epoch 17: loss: 11.81757926940918\n",
            "Evaluation Accuracy: 31.37%\n",
            "Epoch 18: loss: 11.405683517456055\n",
            "Evaluation Accuracy: 32.45%\n",
            "Epoch 19: loss: 10.388126373291016\n",
            "Evaluation Accuracy: 34.02%\n",
            "Epoch 20: loss: 11.256851196289062\n",
            "Evaluation Accuracy: 34.31%\n",
            "Epoch 21: loss: 11.561030387878418\n",
            "Evaluation Accuracy: 33.43%\n",
            "Epoch 22: loss: 9.818220138549805\n",
            "Evaluation Accuracy: 33.82%\n",
            "Epoch 23: loss: 11.337041854858398\n",
            "Evaluation Accuracy: 33.92%\n",
            "Epoch 24: loss: 9.889335632324219\n",
            "Evaluation Accuracy: 33.33%\n",
            "Epoch 25: loss: 8.708552360534668\n",
            "Evaluation Accuracy: 32.16%\n",
            "Epoch 26: loss: 9.293264389038086\n",
            "Evaluation Accuracy: 33.14%\n",
            "Epoch 27: loss: 7.7795610427856445\n",
            "Evaluation Accuracy: 32.06%\n",
            "Epoch 28: loss: 8.066981315612793\n",
            "Evaluation Accuracy: 34.61%\n",
            "Epoch 29: loss: 5.656383514404297\n",
            "Evaluation Accuracy: 34.02%\n"
          ]
        }
      ]
    },
    {
      "cell_type": "code",
      "source": [
        "#final test\n",
        "test_accuracy = check_accuracy(test_dataloader, model, device)\n",
        "print(f'Test Accuracy: {test_accuracy * 100:.2f}%')"
      ],
      "metadata": {
        "colab": {
          "base_uri": "https://localhost:8080/"
        },
        "id": "v9CoEynyE2VL",
        "outputId": "5ac2c172-9018-4d74-83a9-a33827144ed7"
      },
      "execution_count": 24,
      "outputs": [
        {
          "output_type": "stream",
          "name": "stdout",
          "text": [
            "Test Accuracy: 30.17%\n"
          ]
        }
      ]
    }
  ]
}