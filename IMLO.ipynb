{
  "nbformat": 4,
  "nbformat_minor": 0,
  "metadata": {
    "colab": {
      "provenance": [],
      "gpuType": "T4",
      "authorship_tag": "ABX9TyNBVOiI67JAX3R0OtddMfZJ",
      "include_colab_link": true
    },
    "kernelspec": {
      "name": "python3",
      "display_name": "Python 3"
    },
    "language_info": {
      "name": "python"
    },
    "accelerator": "GPU"
  },
  "cells": [
    {
      "cell_type": "markdown",
      "metadata": {
        "id": "view-in-github",
        "colab_type": "text"
      },
      "source": [
        "<a href=\"https://colab.research.google.com/github/Domdec32/IMLO/blob/main/IMLO.ipynb\" target=\"_parent\"><img src=\"https://colab.research.google.com/assets/colab-badge.svg\" alt=\"Open In Colab\"/></a>"
      ]
    },
    {
      "cell_type": "code",
      "execution_count": 10,
      "metadata": {
        "id": "LFeJuU2NaouY"
      },
      "outputs": [],
      "source": [
        "import torch\n",
        "import torch.optim as optim\n",
        "from torch import nn\n",
        "from torch.utils.data import DataLoader\n",
        "from torchvision import datasets, transforms\n",
        "from torchvision.transforms import ToTensor\n",
        "import torch.nn.functional as F\n",
        "from torch.utils.data import ConcatDataset\n",
        "from torch.utils.data import TensorDataset"
      ]
    },
    {
      "cell_type": "code",
      "source": [
        "ImageWidth = 200\n",
        "ImageHeight = 200\n",
        "batch_size = 32\n",
        "LearningRate = 0.001\n",
        "NumberofEpochs = 30\n",
        "batch_size = 64"
      ],
      "metadata": {
        "id": "imGBd49Vgt_U"
      },
      "execution_count": 11,
      "outputs": []
    },
    {
      "cell_type": "code",
      "source": [
        "transform = transforms.Compose([\n",
        "    transforms.Resize((ImageHeight, ImageWidth)),\n",
        "    transforms.ToTensor()\n",
        "])\n",
        "\n",
        "augment_transform = transforms.Compose([\n",
        "    transforms.Resize((ImageHeight, ImageWidth)),\n",
        "    transforms.RandomRotation(degrees=20),\n",
        "    transforms.RandomHorizontalFlip(),\n",
        "    transforms.RandomResizedCrop((ImageHeight, ImageWidth), scale=(0.8, 1.0)),\n",
        "    transforms.ToTensor()\n",
        "])"
      ],
      "metadata": {
        "id": "NFyIYbEQk3nz"
      },
      "execution_count": 12,
      "outputs": []
    },
    {
      "cell_type": "code",
      "source": [
        "\n",
        "training_data = datasets.Flowers102(\n",
        "    root=\"data\",\n",
        "    split=\"train\",\n",
        "    download=True,\n",
        "    transform=transform,\n",
        ")\n",
        "\n",
        "augmented_training_data1 = datasets.Flowers102(\n",
        "    root=\"data\",\n",
        "    split=\"train\",\n",
        "    download=True,\n",
        "    transform=augment_transform,\n",
        ")\n",
        "\n",
        "augmented_training_data2 = datasets.Flowers102(\n",
        "    root=\"data\",\n",
        "    split=\"train\",\n",
        "    download=True,\n",
        "    transform=augment_transform,\n",
        ")\n",
        "\n",
        "test_data = datasets.Flowers102(\n",
        "    root=\"data\",\n",
        "    split=\"test\",\n",
        "    download=True,\n",
        "    transform=transform,\n",
        ")\n",
        "\n",
        "evaluation_data = datasets.Flowers102(\n",
        "    root=\"data\",\n",
        "    split=\"val\",\n",
        "    download=True,\n",
        "    transform=transform,\n",
        ")"
      ],
      "metadata": {
        "id": "6fJ8bVzYcAbN"
      },
      "execution_count": 13,
      "outputs": []
    },
    {
      "cell_type": "code",
      "source": [
        "combined_dataset1 = ConcatDataset([training_data, augmented_training_data1])\n",
        "combined_dataset2 = ConcatDataset([combined_dataset1, augmented_training_data2])\n",
        "train_dataloader = DataLoader(combined_dataset2, batch_size=batch_size, shuffle=True)\n",
        "\n",
        "test_dataloader = DataLoader(test_data, batch_size=batch_size, shuffle=False)\n",
        "evaluation_dataloader = DataLoader(evaluation_data, batch_size=batch_size, shuffle=False)"
      ],
      "metadata": {
        "id": "x60GDaM1dFkA"
      },
      "execution_count": 14,
      "outputs": []
    },
    {
      "cell_type": "code",
      "source": [
        "for X, y in test_dataloader:\n",
        "    print(f\"Shape of X: {X.shape}\")\n",
        "    print(f\"Shape of y: {y.shape} {y.dtype}\")\n",
        "    break"
      ],
      "metadata": {
        "colab": {
          "base_uri": "https://localhost:8080/"
        },
        "id": "UILdZQF7eQzg",
        "outputId": "db29b8bb-0f5a-4858-cc80-ec72942421ab"
      },
      "execution_count": 15,
      "outputs": [
        {
          "output_type": "stream",
          "name": "stdout",
          "text": [
            "Shape of X: torch.Size([64, 3, 200, 200])\n",
            "Shape of y: torch.Size([64]) torch.int64\n"
          ]
        }
      ]
    },
    {
      "cell_type": "code",
      "source": [
        "class CNN(nn.Module):\n",
        "    def __init__(self, ImageWidth, ImageHeight, num_classes=102):\n",
        "        super(CNN, self).__init__()\n",
        "\n",
        "        self.conv1 = nn.Conv2d(in_channels=3, out_channels=8, kernel_size=3, stride=1, padding=1)\n",
        "        self.conv2 = nn.Conv2d(in_channels=8, out_channels=16, kernel_size=3, stride=1, padding=1)\n",
        "        self.pool = nn.MaxPool2d(kernel_size=2, stride=2)\n",
        "        self.fc = nn.Linear(in_features = int(ImageWidth/4)*int(ImageHeight/4)*16, out_features=num_classes)\n",
        "\n",
        "    def forward(self, x):\n",
        "          x = self.pool(F.relu(self.conv1(x)))\n",
        "          x = self.pool(F.relu(self.conv2(x)))\n",
        "          x = self.fc(x.reshape(x.shape[0], -1))\n",
        "\n",
        "          return x\n",
        "\n",
        "model = CNN(ImageWidth, ImageHeight, num_classes=102)"
      ],
      "metadata": {
        "id": "INLtjtrfLAzi"
      },
      "execution_count": 16,
      "outputs": []
    },
    {
      "cell_type": "code",
      "source": [
        "x = torch.randn(32, 3, 200, 200)\n",
        "y = model(x)\n",
        "print(y.shape)"
      ],
      "metadata": {
        "colab": {
          "base_uri": "https://localhost:8080/"
        },
        "id": "RbWi13adUr8u",
        "outputId": "6b45c20d-a263-4365-a1c2-826faa1f368f"
      },
      "execution_count": 17,
      "outputs": [
        {
          "output_type": "stream",
          "name": "stdout",
          "text": [
            "torch.Size([32, 102])\n"
          ]
        }
      ]
    },
    {
      "cell_type": "code",
      "source": [
        "device = \"cuda\" if torch.cuda.is_available() else \"cpu\"\n",
        "print(device)\n",
        "\n",
        "model = CNN(ImageWidth=ImageWidth, ImageHeight=ImageHeight, num_classes=102)\n",
        "model = model.to(device)\n",
        "\n",
        "criterion = nn.CrossEntropyLoss()\n",
        "\n",
        "optimizer = optim.Adam(model.parameters(), lr = LearningRate)"
      ],
      "metadata": {
        "id": "vWa2uveeXRsY",
        "colab": {
          "base_uri": "https://localhost:8080/"
        },
        "outputId": "9faab20c-b9d2-4ff5-e740-891583aaec4a"
      },
      "execution_count": 18,
      "outputs": [
        {
          "output_type": "stream",
          "name": "stdout",
          "text": [
            "cuda\n"
          ]
        }
      ]
    },
    {
      "cell_type": "code",
      "source": [
        "def check_accuracy(loader, model, device):\n",
        "    num_correct = 0\n",
        "    num_samples = 0\n",
        "    model.eval()\n",
        "\n",
        "    with torch.no_grad():\n",
        "        for x, y in loader:\n",
        "            x = x.to(device)\n",
        "            y = y.to(device)\n",
        "\n",
        "            scores = model(x)\n",
        "            _, predictions = scores.max(1)\n",
        "\n",
        "            num_correct += (predictions == y).sum()\n",
        "            num_samples += predictions.size(0)\n",
        "\n",
        "    model.train()\n",
        "    accuracy = float(num_correct) / num_samples\n",
        "    return accuracy"
      ],
      "metadata": {
        "id": "EV5aa8BSDPnn"
      },
      "execution_count": 19,
      "outputs": []
    },
    {
      "cell_type": "code",
      "source": [
        "for epoch in range(NumberofEpochs):\n",
        "  running_loss = 0\n",
        "  for index, (x,y) in enumerate(train_dataloader):\n",
        "    x = x.to(device)\n",
        "    y = y.to(device)\n",
        "\n",
        "    y_hat = model(x)\n",
        "    loss = criterion(y_hat, y)\n",
        "    running_loss += loss\n",
        "\n",
        "    optimizer.zero_grad()\n",
        "    loss.backward()\n",
        "    optimizer.step()\n",
        "\n",
        "  print(f\"Epoch {epoch}: loss: {running_loss}\")\n",
        "  eval_accuracy = check_accuracy(evaluation_dataloader, model, device)\n",
        "  print(f'Evaluation Accuracy: {eval_accuracy * 100:.2f}%')"
      ],
      "metadata": {
        "colab": {
          "base_uri": "https://localhost:8080/"
        },
        "id": "9Z6RiYHdDQdp",
        "outputId": "d2244448-e28a-49f9-e063-94e844b3129d"
      },
      "execution_count": 20,
      "outputs": [
        {
          "output_type": "stream",
          "name": "stdout",
          "text": [
            "Epoch 0: loss: 196.6856689453125\n",
            "Evaluation Accuracy: 14.61%\n",
            "Epoch 1: loss: 114.85191345214844\n",
            "Evaluation Accuracy: 24.31%\n",
            "Epoch 2: loss: 73.69407653808594\n",
            "Evaluation Accuracy: 25.78%\n",
            "Epoch 3: loss: 56.41706466674805\n",
            "Evaluation Accuracy: 25.49%\n",
            "Epoch 4: loss: 43.79290008544922\n",
            "Evaluation Accuracy: 27.35%\n",
            "Epoch 5: loss: 35.019447326660156\n",
            "Evaluation Accuracy: 26.37%\n",
            "Epoch 6: loss: 30.344961166381836\n",
            "Evaluation Accuracy: 28.04%\n",
            "Epoch 7: loss: 25.660400390625\n",
            "Evaluation Accuracy: 29.61%\n",
            "Epoch 8: loss: 21.791732788085938\n",
            "Evaluation Accuracy: 29.61%\n",
            "Epoch 9: loss: 20.536895751953125\n",
            "Evaluation Accuracy: 30.98%\n",
            "Epoch 10: loss: 16.67045783996582\n",
            "Evaluation Accuracy: 31.08%\n",
            "Epoch 11: loss: 14.175838470458984\n",
            "Evaluation Accuracy: 29.61%\n",
            "Epoch 12: loss: 12.120975494384766\n",
            "Evaluation Accuracy: 29.22%\n",
            "Epoch 13: loss: 13.434870719909668\n",
            "Evaluation Accuracy: 29.71%\n",
            "Epoch 14: loss: 11.910536766052246\n",
            "Evaluation Accuracy: 30.20%\n",
            "Epoch 15: loss: 10.477455139160156\n",
            "Evaluation Accuracy: 32.94%\n",
            "Epoch 16: loss: 9.957449913024902\n",
            "Evaluation Accuracy: 32.25%\n",
            "Epoch 17: loss: 8.707307815551758\n",
            "Evaluation Accuracy: 32.06%\n",
            "Epoch 18: loss: 10.603137016296387\n",
            "Evaluation Accuracy: 30.59%\n",
            "Epoch 19: loss: 8.59770393371582\n",
            "Evaluation Accuracy: 31.37%\n",
            "Epoch 20: loss: 8.160429954528809\n",
            "Evaluation Accuracy: 32.35%\n",
            "Epoch 21: loss: 7.563404560089111\n",
            "Evaluation Accuracy: 32.06%\n",
            "Epoch 22: loss: 8.044939041137695\n",
            "Evaluation Accuracy: 31.67%\n",
            "Epoch 23: loss: 7.672503471374512\n",
            "Evaluation Accuracy: 32.45%\n",
            "Epoch 24: loss: 6.1703715324401855\n",
            "Evaluation Accuracy: 33.14%\n",
            "Epoch 25: loss: 5.395384788513184\n",
            "Evaluation Accuracy: 32.84%\n",
            "Epoch 26: loss: 6.941124439239502\n",
            "Evaluation Accuracy: 30.88%\n",
            "Epoch 27: loss: 6.954412460327148\n",
            "Evaluation Accuracy: 31.47%\n",
            "Epoch 28: loss: 5.242245674133301\n",
            "Evaluation Accuracy: 31.27%\n",
            "Epoch 29: loss: 5.15178108215332\n",
            "Evaluation Accuracy: 32.25%\n"
          ]
        }
      ]
    },
    {
      "cell_type": "code",
      "source": [
        "#final test\n",
        "test_accuracy = check_accuracy(test_dataloader, model, device)\n",
        "print(f'Test Accuracy: {test_accuracy * 100:.2f}%')"
      ],
      "metadata": {
        "colab": {
          "base_uri": "https://localhost:8080/"
        },
        "id": "v9CoEynyE2VL",
        "outputId": "178dee4c-8a21-4212-f2f4-31cb126b7cf2"
      },
      "execution_count": 22,
      "outputs": [
        {
          "output_type": "stream",
          "name": "stdout",
          "text": [
            "Test Accuracy: 28.87%\n"
          ]
        }
      ]
    }
  ]
}